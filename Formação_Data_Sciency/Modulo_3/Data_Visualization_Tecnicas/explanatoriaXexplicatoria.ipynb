{
 "cells": [
  {
   "attachments": {},
   "cell_type": "markdown",
   "metadata": {},
   "source": [
    "# Análise exploratória X Análise explanatória\n",
    "\n",
    "A análise exploratória é do profissional responsável pela análise, pessoal e intransferível. \n",
    "É toda a garimpagem que se faz para entender os dados gerados e descobrir o que pode ser mais interessante e aproveitável ali. \n",
    "“Quando fazemos uma análise exploratória, é como procurar pérolas em ostras. Talvez precisemos de 100 ostras para encontrarmos duas pérolas”. \n",
    "Na hora de comunicar a análise, a história que você deseja contar não é sobre as 100 ostras — mas sim sobre as duas pérolas garimpadas no processo. \n",
    "Contar sobre as pérolas é explanar a sua análise, comunicar o que realmente pode ser útil para o storytelling que está sendo construído.\n",
    "\n",
    "\n",
    "Então a primeira palavra, exploratória, vem de explorar, então ali realmente eu tenho a minha base de dados e vou explorar os meus dados, \n",
    "ver quais são as perguntas que eu consigo fazer para eles, quais são as respostas que consigo tirar, realmente explorar e ter conclusões.\n",
    "\n",
    "Agora análise explanatória, vem de explanar, de explicar, é realmente eu comunicar, é explicar o que eu fiz ali, o que acontece é que às vezes as pessoas confundem um pouco e \n",
    "montam ali um relatório mostrando uma análise exploratória, então o que eu fiz, qual foi a função que eu utilizei, como é que eu construí aquele gráfico, às vezes a pessoa só quer que você explique os insights que você retirou dali."
   ]
  }
 ],
 "metadata": {
  "language_info": {
   "name": "python"
  },
  "orig_nbformat": 4
 },
 "nbformat": 4,
 "nbformat_minor": 2
}
