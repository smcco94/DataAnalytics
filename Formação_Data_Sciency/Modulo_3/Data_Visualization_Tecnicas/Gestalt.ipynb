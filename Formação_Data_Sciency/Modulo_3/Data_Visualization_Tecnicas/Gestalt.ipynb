{
 "cells": [
  {
   "attachments": {},
   "cell_type": "markdown",
   "metadata": {},
   "source": [
    "# Princípio de Gestalt\n",
    "\n",
    "A Gestalt é uma teoria criada por Max Wertheimer, Wolfgang Köhler e Kurt Koffka.\n",
    "\n",
    "Com um amplo uso em diversas áreas de conhecimento, como artes plásticas, tratamento de pacientes na psicologia (a chamada terapia-gestalt), UI/UX e também em aplicações voltadas para a visão de negócio e gestão de empresas, a Gestalt, aqui nesse curso, está voltada para a interpretação e visualização de alguns gráficos ou dados.\n",
    "\n",
    "Logo abaixo, apresentamos um pequeno resumo dos princípios de Gestalt e alguns exemplos visuais:\n",
    "\n",
    "### Proximidade\n",
    "O princípio da proximidade reflete uma tendência de visualizar objetos fisicamente próximos como parte de um grupo.\n",
    "\n",
    "alt text: Desenho de 24 bolinhas divididas em 2 padrões diferentes de proximidade. O primeiro desenho, que está localizado à esquerda, tem uma matriz com doze bolinhas verdes organizadas em 4 linhas e 3 colunas. No grupo localizado no centro da imagem e seguindo para a direita, temos as mesmas 12 bolinhas verdes, mas divididas em duas matrizes. A primeira matriz está organizada em 4 linhas e 2 colunas e a segunda matriz em 4 linhas e 1 coluna.\n",
    "\n",
    "No exemplo acima, podemos notar que as imagens possuem os mesmos elementos, mas a mudança na proximidade faz com que os grupos e relações sejam percebidos de forma diferente.\n",
    "\n",
    "### Similaridade\n",
    "O princípio da similaridade reflete uma tendência de separar os objetos por cores, formas e tamanhos como se pertencessem a um grupo.\n",
    "\n",
    "alt text: 6 formas geométricas espaçadas aleatoriamente. As 6 formas se dividem da seguinte maneira: 2 quadrados pequenos na cor laranja, 2 quadrados grandes na cor verde e 2 retângulos vermelhos.\n",
    "\n",
    "No exemplo acima, inconscientemente, dividimos as figuras em 3 grupos, seja pela forma (quadrados pequenos, quadrados grandes e retângulos) ou pelas cores (laranja, verde e vermelho).\n",
    "\n",
    "### Acercamento\n",
    "O princípio do acercamento reflete uma tendência de visualizar objetos fisicamente delimitados como parte de um grupo.\n",
    "\n",
    "alt text: Matriz com 9 quadrados azuis ordenados em 3 linhas e 3 colunas. Os 2 últimos quadrados das 2 últimas colunas estão envolvidos por um grande quadrado sombreado de cor cinza-claroNo exemplo acima, mesmo com cores e formas idênticas e com a mesma distância entre si, percebemos os quadrados delineados com um sombreado como pertencentes a outro grupo ou a um grupo com certa hierarquia sobre o todo.\n",
    "\n",
    "### Fechamento\n",
    "O princípio do fechamento reflete uma tendência de dar aos objetos uma forma única, preenchendo suas lacunas.\n",
    "\n",
    "alt text: Linhas tracejadas que, se conectadas, se assemelham a um cubo\n",
    "\n",
    "Neste exemplo, o nosso cérebro automaticamente tenta converter os traços independentes em uma forma conhecida que seria o cubo. Isso ocorre, pois recorremos à memória a conversão de objetos complexos em formas simples e/ou já conhecidas.\n",
    "\n",
    "### Continuidade\n",
    "O princípio da continuidade diz respeito à tendência de criar uma continuidade ou sequência ao visualizar objetos mesmo não existindo explicitamente.\n",
    "\n",
    "alt text: 5 bolas amarelas espaçadas aleatoriamente na parte superior da figura. Na parte inferior, temos 5 bolas azuis organizadas em linha.\n",
    "\n",
    "No exemplo acima, percebemos os elementos que são posicionados em uma linha ou curva como mais relacionados do que aqueles que não estão dispostos desta forma.\n",
    "\n",
    "### Ponto Focal\n",
    "O princípio do ponto focal diz respeito à tendência de dar destaque a um elemento diferente dentro de um conjunto de elementos similares.\n",
    "\n",
    "alt text: 12 elementos sendo, 11 quadrados verde-escuros e um losango laranja organizados em 3 linhas e 4 colunas. O losango está localizado na posição da 2ª linha e 3ª coluna. \n",
    "\n",
    "Neste último exemplo, podemos notar que um elemento que se destaca visualmente poderá capturar e prender a atenção das pessoas com maior facilidade."
   ]
  }
 ],
 "metadata": {
  "kernelspec": {
   "display_name": "Python 3",
   "language": "python",
   "name": "python3"
  },
  "language_info": {
   "codemirror_mode": {
    "name": "ipython",
    "version": 3
   },
   "file_extension": ".py",
   "mimetype": "text/x-python",
   "name": "python",
   "nbconvert_exporter": "python",
   "pygments_lexer": "ipython3",
   "version": "3.11.2"
  },
  "orig_nbformat": 4
 },
 "nbformat": 4,
 "nbformat_minor": 2
}
