{
 "cells": [
  {
   "attachments": {},
   "cell_type": "markdown",
   "metadata": {},
   "source": [
    "## Aula 1 - Conhecendo os dados"
   ]
  },
  {
   "cell_type": "code",
   "execution_count": null,
   "metadata": {},
   "outputs": [],
   "source": [
    "import pandas as pd\n",
    "import seaborn as sns\n",
    "import matplotlib.pyplot as plt"
   ]
  },
  {
   "cell_type": "code",
   "execution_count": null,
   "metadata": {},
   "outputs": [],
   "source": [
    "tmdb = pd.read_csv('files/tmdb_5000_movies.csv')\n",
    "ax = sns.displot(tmdb.vote_average, kind='hist')\n",
    "#ax = sns.displot(tmdb.vote_average, kind='kde') # kind = ['hist', 'kde', 'ecdf']\n",
    "ax.set(title = 'Média de votos TMDB 5000',xlabel = 'Nota Média', ylabel = 'Densidade')"
   ]
  },
  {
   "cell_type": "code",
   "execution_count": null,
   "metadata": {},
   "outputs": [],
   "source": [
    "sns.boxplot(x=tmdb.vote_average)"
   ]
  },
  {
   "cell_type": "code",
   "execution_count": null,
   "metadata": {},
   "outputs": [],
   "source": [
    "tmdb_com_mais_de_10_votos = tmdb.query('vote_count >= 10')\n",
    "ax = sns.displot(tmdb_com_mais_de_10_votos.vote_average)\n",
    "ax.set(title='Média de votos em filmes no TMBD 5000',xlabel='Nota média', ylabel='Frequência')"
   ]
  },
  {
   "cell_type": "code",
   "execution_count": null,
   "metadata": {},
   "outputs": [],
   "source": [
    "sns.boxplot(x=tmdb_com_mais_de_10_votos.vote_average)"
   ]
  },
  {
   "cell_type": "code",
   "execution_count": null,
   "metadata": {},
   "outputs": [],
   "source": [
    "ax = sns.distplot(tmdb_com_mais_de_10_votos.vote_average, \n",
    "                  hist_kws = {'cumulative':True}, \n",
    "                  kde_kws = {'cumulative':True})\n",
    "ax.set(xlabel='Nota média', ylabel='Proporção acumulada de filmes')\n",
    "ax.set_title('Média de votos em filmes no TMDB 5000')"
   ]
  },
  {
   "cell_type": "code",
   "execution_count": null,
   "metadata": {},
   "outputs": [],
   "source": [
    "notas = pd.read_csv('files/ratings.csv')\n",
    "notas.head()"
   ]
  },
  {
   "cell_type": "code",
   "execution_count": null,
   "metadata": {},
   "outputs": [],
   "source": [
    "nota_media_por_filme = notas.groupby(by='movieId').agg('mean').rating\n",
    "votos_por_filme = "
   ]
  },
  {
   "cell_type": "code",
   "execution_count": null,
   "metadata": {},
   "outputs": [],
   "source": [
    "tmdb = pd.read_csv('files/tmdb_5000_movies.csv')\n",
    "ax = sns.displot(nota_media_por_filme.values, kind='hist') # kind = ['hist', 'kde', 'ecdf']\n",
    "ax.set(title = 'Média de votos Movie lens',xlabel = 'Nota Média', ylabel = 'Densidade')"
   ]
  },
  {
   "cell_type": "code",
   "execution_count": null,
   "metadata": {},
   "outputs": [],
   "source": [
    "quantidade_de_votos_por_filme = notas.groupby(\"movieId\").count()\n",
    "filmes_com_pelo_menos_10_votos = quantidade_de_votos_por_filme.query(\"rating >= 10\").index\n",
    "nota_media_dos_filmes_com_pelo_menos_10_votos = nota_media_por_filme.loc[filmes_com_pelo_menos_10_votos.values]"
   ]
  },
  {
   "cell_type": "code",
   "execution_count": null,
   "metadata": {},
   "outputs": [],
   "source": [
    "ax = sns.displot(nota_media_dos_filmes_com_pelo_menos_10_votos)\n",
    "ax.set(title = 'Média de votos em filmes no MovieLens',xlabel='Nota média', ylabel='Densidade')"
   ]
  },
  {
   "cell_type": "code",
   "execution_count": null,
   "metadata": {},
   "outputs": [],
   "source": [
    "ax = sns.boxplot(x=nota_media_dos_filmes_com_pelo_menos_10_votos.values)\n",
    "ax.set(xlabel='Nota  média do filme')\n",
    "ax.set_title('Distribuição de nota média dos filmes do MovieLens')"
   ]
  },
  {
   "cell_type": "code",
   "execution_count": null,
   "metadata": {},
   "outputs": [],
   "source": [
    "ax = sns.distplot(nota_media_dos_filmes_com_pelo_menos_10_votos, \n",
    "                  hist_kws = {'cumulative':True}, \n",
    "                  kde_kws = {'cumulative':True})\n",
    "ax.set(xlabel='Nota média', ylabel='Proporção acumulada de filmes')\n",
    "ax.set_title('Média de votos em filmes no MovieLens')\n"
   ]
  },
  {
   "cell_type": "code",
   "execution_count": null,
   "metadata": {},
   "outputs": [],
   "source": [
    "sns.ecdfplot(nota_media_dos_filmes_com_pelo_menos_10_votos, stat='proportion') #stat = ['count', 'proportion']"
   ]
  },
  {
   "attachments": {},
   "cell_type": "markdown",
   "metadata": {},
   "source": [
    "## Aula 2 - Explorando as distribuições das amostras"
   ]
  },
  {
   "cell_type": "code",
   "execution_count": null,
   "metadata": {},
   "outputs": [],
   "source": []
  }
 ],
 "metadata": {
  "kernelspec": {
   "display_name": "Python 3",
   "language": "python",
   "name": "python3"
  },
  "language_info": {
   "codemirror_mode": {
    "name": "ipython",
    "version": 3
   },
   "file_extension": ".py",
   "mimetype": "text/x-python",
   "name": "python",
   "nbconvert_exporter": "python",
   "pygments_lexer": "ipython3",
   "version": "3.11.2"
  },
  "orig_nbformat": 4
 },
 "nbformat": 4,
 "nbformat_minor": 2
}
