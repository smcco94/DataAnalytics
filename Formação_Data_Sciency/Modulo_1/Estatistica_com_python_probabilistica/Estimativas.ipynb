{
 "cells": [
  {
   "cell_type": "markdown",
   "metadata": {
    "colab_type": "text",
    "id": "WvMflodMjQKe"
   },
   "source": [
    "***\n",
    "# <font color=green size=10>CURSO DE ESTATÍSTICA - PARTE 2</font>\n",
    "***\n",
    "\n",
    "## Trabalho sobre Probabilidades, Amostragem e Estimações\n",
    "\n",
    "Utilizando os conhecimentos adquiridos em nosso treinamento execute as tarefas abaixo. Siga o roteiro proposto e vá completando as células vazias."
   ]
  },
  {
   "cell_type": "markdown",
   "metadata": {
    "colab_type": "text",
    "id": "cVgsZ_E3jQKg"
   },
   "source": [
    "# <font color=green>DATASET DO PROJETO</font>\n",
    "***"
   ]
  },
  {
   "cell_type": "markdown",
   "metadata": {
    "colab_type": "text",
    "id": "iN1gIbaKjQKh"
   },
   "source": [
    "### Pesquisa Nacional por Amostra de Domicílios - 2015\n",
    "\n",
    "A <b>Pesquisa Nacional por Amostra de Domicílios - PNAD</b> investiga anualmente, de forma permanente, características gerais da população, de educação, trabalho, rendimento e habitação e outras, com periodicidade variável, de acordo com as necessidades de informação para o país, como as características sobre migração, fecundidade, nupcialidade, saúde, segurança alimentar, entre outros temas. O levantamento dessas estatísticas constitui, ao longo dos 49 anos de realização da pesquisa, um importante instrumento para formulação, validação e avaliação de políticas orientadas para o desenvolvimento socioeconômico e a melhoria das condições de vida no Brasil."
   ]
  },
  {
   "cell_type": "markdown",
   "metadata": {
    "colab_type": "text",
    "id": "U6V7br1RjQKi"
   },
   "source": [
    "### Fonte dos Dados\n",
    "\n",
    "https://ww2.ibge.gov.br/home/estatistica/populacao/trabalhoerendimento/pnad2015/microdados.shtm"
   ]
  },
  {
   "cell_type": "markdown",
   "metadata": {
    "colab_type": "text",
    "id": "r0Fe_qnzjQKj"
   },
   "source": [
    "### Variáveis utilizadas\n",
    "\n",
    "> ### Renda\n",
    "> ***\n",
    "\n",
    "Rendimento mensal do trabalho principal para pessoas de 10 anos ou mais de idade.\n",
    "\n",
    "> ### Idade\n",
    "> ***\n",
    "\n",
    "Idade do morador na data de referência em anos.\n",
    "\n",
    "> ### Altura (elaboração própria)\n",
    "> ***\n",
    "\n",
    "Altura do morador em metros.\n",
    "\n",
    "> ### UF\n",
    "> ***\n",
    "\n",
    "|Código|Descrição|\n",
    "|---|---|\n",
    "|11|Rondônia|\n",
    "|12|Acre|\n",
    "|13|Amazonas|\n",
    "|14|Roraima|\n",
    "|15|Pará|\n",
    "|16|Amapá|\n",
    "|17|Tocantins|\n",
    "|21|Maranhão|\n",
    "|22|Piauí|\n",
    "|23|Ceará|\n",
    "|24|Rio Grande do Norte|\n",
    "|25|Paraíba|\n",
    "|26|Pernambuco|\n",
    "|27|Alagoas|\n",
    "|28|Sergipe|\n",
    "|29|Bahia|\n",
    "|31|Minas Gerais|\n",
    "|32|Espírito Santo|\n",
    "|33|Rio de Janeiro|\n",
    "|35|São Paulo|\n",
    "|41|Paraná|\n",
    "|42|Santa Catarina|\n",
    "|43|Rio Grande do Sul|\n",
    "|50|Mato Grosso do Sul|\n",
    "|51|Mato Grosso|\n",
    "|52|Goiás|\n",
    "|53|Distrito Federal|\n",
    "\n",
    "> ### Sexo\t\n",
    "> ***\n",
    "\n",
    "|Código|Descrição|\n",
    "|---|---|\n",
    "|0|Masculino|\n",
    "|1|Feminino|\n",
    "\n",
    "> ### Anos de Estudo\n",
    "> ***\n",
    "\n",
    "|Código|Descrição|\n",
    "|---|---|\n",
    "|1|Sem instrução e menos de 1 ano|\n",
    "|2|1 ano|\n",
    "|3|2 anos|\n",
    "|4|3 anos|\n",
    "|5|4 anos|\n",
    "|6|5 anos|\n",
    "|7|6 anos|\n",
    "|8|7 anos|\n",
    "|9|8 anos|\n",
    "|10|9 anos|\n",
    "|11|10 anos|\n",
    "|12|11 anos|\n",
    "|13|12 anos|\n",
    "|14|13 anos|\n",
    "|15|14 anos|\n",
    "|16|15 anos ou mais|\n",
    "|17|Não determinados| \n",
    "||Não aplicável|\n",
    "\n",
    "> ### Cor\n",
    "> ***\n",
    "\n",
    "|Código|Descrição|\n",
    "|---|---|\n",
    "|0|Indígena|\n",
    "|2|Branca|\n",
    "|4|Preta|\n",
    "|6|Amarela|\n",
    "|8|Parda|\n",
    "|9|Sem declaração|"
   ]
  },
  {
   "cell_type": "markdown",
   "metadata": {
    "colab_type": "text",
    "id": "OK1IQH5cX7Gb"
   },
   "source": [
    "#### <font color='red'>Observação</font>\n",
    "***\n",
    "> Os seguintes tratamentos foram realizados nos dados originais:\n",
    "> 1. Foram eliminados os registros onde a <b>Renda</b> era inválida (999 999 999 999);\n",
    "> 2. Foram eliminados os registros onde a <b>Renda</b> era missing;\n",
    "> 3. Foram considerados somente os registros das <b>Pessoas de Referência</b> de cada domicílio (responsável pelo domicílio)."
   ]
  },
  {
   "cell_type": "markdown",
   "metadata": {
    "colab_type": "text",
    "id": "ZIqLOffNTg1Y"
   },
   "source": [
    "***\n",
    "***"
   ]
  },
  {
   "cell_type": "markdown",
   "metadata": {
    "colab_type": "text",
    "id": "8Rw70V6ojQKk"
   },
   "source": [
    "### Utilize a célula abaixo para importar as bibliotecas que precisar para executar as tarefas\n",
    "#### <font color='red'>Sugestões: pandas, numpy, scipy etc.</font>"
   ]
  },
  {
   "cell_type": "code",
   "execution_count": 2,
   "metadata": {
    "colab": {},
    "colab_type": "code",
    "id": "itHvj-WRKa86"
   },
   "outputs": [],
   "source": [
    "import pandas as pd\n",
    "import numpy as np\n",
    "import scipy as sp"
   ]
  },
  {
   "cell_type": "markdown",
   "metadata": {
    "colab_type": "text",
    "id": "2a-gvBvCULwt"
   },
   "source": [
    "### Importe o dataset e armazene o conteúdo em uma DataFrame"
   ]
  },
  {
   "cell_type": "code",
   "execution_count": 3,
   "metadata": {
    "colab": {},
    "colab_type": "code",
    "id": "ufRZ7TLwjQKo"
   },
   "outputs": [],
   "source": [
    "dados = pd.read_csv('../files/dados.csv', sep=',')"
   ]
  },
  {
   "cell_type": "markdown",
   "metadata": {
    "colab_type": "text",
    "id": "Oq3CKHCmTg1j"
   },
   "source": [
    "### Visualize o conteúdo do DataFrame"
   ]
  },
  {
   "cell_type": "code",
   "execution_count": 4,
   "metadata": {
    "colab": {},
    "colab_type": "code",
    "id": "GsC_WhLFjQKq",
    "scrolled": true
   },
   "outputs": [
    {
     "data": {
      "text/plain": [
       "0    69.0\n",
       "1    31.0\n",
       "Name: Sexo, dtype: float64"
      ]
     },
     "execution_count": 4,
     "metadata": {},
     "output_type": "execute_result"
    }
   ],
   "source": [
    "dados.Sexo.value_counts(normalize=True).round(2) * 100"
   ]
  },
  {
   "cell_type": "markdown",
   "metadata": {
    "colab_type": "text",
    "id": "Aa401USPKa9H"
   },
   "source": [
    "# <font color='green'>Problema A</font>"
   ]
  },
  {
   "cell_type": "markdown",
   "metadata": {
    "colab_type": "text",
    "id": "yUQqpvW6Ka9I"
   },
   "source": [
    "Avaliando nosso dataset é possível verificar que a **proporção de homens** como chefes de domicílios é de quase **70%**. Precisamos **selecionar aleatoriamente grupos de 10 indivíduos** para verificar as diferenças entre os rendimentos em cada grupo. Qual a **probabilidade de selecionamos um grupo que apresente a mesma proporção da população**, ou seja, selecionarmos um grupo que seja **composto por 7 homens e 3 mulheres**?\n",
    "\n",
    "#### <font color='blue'>Como tarefa extra, verifique a real proporção de homens e mulheres em nosso dataset (vimos como fazer isso em nosso primeiro curso de estatística).</font>\n",
    "\n",
    "#### <font color='red'>Verifique que tipo de distribuição de probabilidade se encaixa neste experimento.</font>"
   ]
  },
  {
   "cell_type": "markdown",
   "metadata": {
    "colab_type": "text",
    "id": "sD1EHuhrKa9I"
   },
   "source": [
    "### Solução"
   ]
  },
  {
   "cell_type": "code",
   "execution_count": 5,
   "metadata": {
    "colab": {},
    "colab_type": "code",
    "id": "lbDcyHPTKa9J"
   },
   "outputs": [],
   "source": [
    "from scipy.special import comb # type: ignore\n",
    "from scipy.stats import binom # type: ignore"
   ]
  },
  {
   "cell_type": "code",
   "execution_count": 6,
   "metadata": {
    "colab": {},
    "colab_type": "code",
    "id": "0_4L_QOnKa9L"
   },
   "outputs": [],
   "source": [
    "integrantes = 10\n",
    "probabilidade_de_sucesso = 0.5\n",
    "probabilidade_de_fracasso = 1 - probabilidade_de_sucesso\n",
    "quantos_sucessos = 7"
   ]
  },
  {
   "cell_type": "code",
   "execution_count": 7,
   "metadata": {
    "colab": {},
    "colab_type": "code",
    "id": "rl7sfPTYKa9N"
   },
   "outputs": [],
   "source": [
    "prob_scipy = binom.pmf(quantos_sucessos,integrantes,probabilidade_de_sucesso)"
   ]
  },
  {
   "cell_type": "code",
   "execution_count": 8,
   "metadata": {
    "colab": {},
    "colab_type": "code",
    "id": "2LQ5lVzoKa9P"
   },
   "outputs": [
    {
     "name": "stdout",
     "output_type": "stream",
     "text": [
      "11.72\n"
     ]
    }
   ],
   "source": [
    "print((prob_scipy*100).round(2))"
   ]
  },
  {
   "cell_type": "markdown",
   "metadata": {
    "colab_type": "text",
    "id": "xhpA2dSYKa9R"
   },
   "source": [
    "# <font color='green'>Problema B</font>"
   ]
  },
  {
   "cell_type": "markdown",
   "metadata": {
    "colab_type": "text",
    "id": "fSu7XWKnKa9S"
   },
   "source": [
    "Ainda sobre a questão anterior, **quantos grupos de 10 indivíduos** nós precisaríamos selecionar, de forma aleatória, para conseguir **100 grupos compostos por 7 homens e 3 mulheres**?\n",
    "\n",
    "#### <font color='red'>Lembre-se da forma de cálculo da média de uma distribuição binomial</font>"
   ]
  },
  {
   "cell_type": "markdown",
   "metadata": {
    "colab_type": "text",
    "id": "Q3wWq7z2Ka9S"
   },
   "source": [
    "### Solução"
   ]
  },
  {
   "cell_type": "code",
   "execution_count": 9,
   "metadata": {
    "colab": {},
    "colab_type": "code",
    "id": "F27eIYXzKa9T"
   },
   "outputs": [
    {
     "data": {
      "text/plain": [
       "853.3879501621436"
      ]
     },
     "execution_count": 9,
     "metadata": {},
     "output_type": "execute_result"
    }
   ],
   "source": [
    "# u = n x p logo n = u/p\n",
    "prob_100 = 100/0.11718\n",
    "prob_100"
   ]
  },
  {
   "cell_type": "markdown",
   "metadata": {
    "colab_type": "text",
    "id": "5OKBEMUNKa9V"
   },
   "source": [
    "# <font color='green'>Problema C</font>"
   ]
  },
  {
   "cell_type": "markdown",
   "metadata": {
    "colab_type": "text",
    "id": "xEpjzbwBKa9W"
   },
   "source": [
    "Um cliente nos encomendou um estudo para avaliar o **rendimento dos chefes de domicílio no Brasil**. Para isso precisamos realizar uma nova coleta de dados, isto é, uma nova pesquisa de campo. Após reunião com o cliente foi possível elencar o seguinte conjunto de informações:\n",
    "\n",
    "> A. O resultado da pesquisa precisa estar pronto em **2 meses**;\n",
    "\n",
    "> B. Teremos somente **R$\\$$ 150.000,00** de recursos para realização da pesquisa de campo; e\n",
    "    \n",
    "> C. Seria interessante uma **margem de erro não superior a 10% em relação a média estimada**.\n",
    "\n",
    "Em nossa experiência com estudos deste tipo, sabemos que o **custo médio por indivíduo entrevistado fica em torno de R$\\$$ 100,00**. Com este conjunto de fatos avalie e obtenha o seguinte conjunto de informações para passar ao cliente:\n",
    "\n",
    "\n",
    "> 1. Para obter uma estimativa para os parâmetros da população (renda dos chefes de domicílio no Brasil), realize uma amostragem aleatória simples em nosso conjunto de dados. Essa amostra deve conter 200 elementos (utilize random_state = 101 para garantir que o mesmo experimento posso ser realizado novamente). Obtenha a média e o desvio-padrão dessa amostra.\n",
    "    \n",
    "> 2. Para a **margem de erro** especificada pelo cliente obtenha os **tamanhos de amostra** necessários para garantir os **níveis de confiança de 90%, 95% e 99%**.\n",
    "    \n",
    "> 3. Obtenha o **custo da pesquisa** para os três níveis de confiança.\n",
    "    \n",
    "> 4. Para o maior nível de confiança viável (dentro do orçamento disponível), obtenha um **intervalo de confiança para a média da população**.\n",
    "    \n",
    "> 5. Assumindo o **nível de confiança escolhido no item anterior**, qual **margem de erro** pode ser considerada utilizando todo o recurso disponibilizado pelo cliente?\n",
    "    \n",
    "> 6. Assumindo um **nível de confiança de 95%**, **quanto a pesquisa custaria ao cliente** caso fosse considerada uma **margem de erro de apenas 5%** em relação a média estimada?\n"
   ]
  },
  {
   "cell_type": "markdown",
   "metadata": {
    "colab_type": "text",
    "id": "m4qMQ4kdKa9W"
   },
   "source": [
    "# <font color='blue'>Solução do item 1</font>"
   ]
  },
  {
   "cell_type": "markdown",
   "metadata": {
    "colab_type": "text",
    "id": "fNb4Yb3RKa9X"
   },
   "source": [
    "### Seleção de uma amostra aleatório simples\n",
    "\n",
    "#### <font color='red'>Lembre-se de utilizar *random_state = 101*</font>"
   ]
  },
  {
   "cell_type": "code",
   "execution_count": 10,
   "metadata": {
    "colab": {},
    "colab_type": "code",
    "id": "_HxUH0AhKa9X"
   },
   "outputs": [
    {
     "data": {
      "text/plain": [
       "mean    2000.383199\n",
       "std     3323.387730\n",
       "Name: Renda, dtype: float64"
      ]
     },
     "execution_count": 10,
     "metadata": {},
     "output_type": "execute_result"
    }
   ],
   "source": [
    "dados.Renda.agg([np.mean,np.std])"
   ]
  },
  {
   "cell_type": "markdown",
   "metadata": {
    "colab_type": "text",
    "id": "fB8NAJsMKa9f"
   },
   "source": [
    "### Dados do problema"
   ]
  },
  {
   "cell_type": "code",
   "execution_count": 11,
   "metadata": {
    "colab": {},
    "colab_type": "code",
    "id": "daBvAiqbKa9g"
   },
   "outputs": [
    {
     "name": "stdout",
     "output_type": "stream",
     "text": [
      "Média: R$1964.205\n",
      "Desvio Padrão: R$3139.8855167452093\n"
     ]
    }
   ],
   "source": [
    "print('Média: R${}'.format(dados.Renda.sample(200, random_state=101).describe().iloc[1]))\n",
    "# Media = dados.Renda.sample(200, random_state=101).mean()\n",
    "print('Desvio Padrão: R${}'.format(dados.Renda.sample(200, random_state=101).describe().iloc[2]))\n",
    "# Desv_Pad = dados.Renda.sample(200, random_state=101).std()"
   ]
  },
  {
   "cell_type": "markdown",
   "metadata": {
    "colab_type": "text",
    "id": "waULC4fmKa9i"
   },
   "source": [
    "# <font color='blue'>Solução do item 2</font>"
   ]
  },
  {
   "cell_type": "markdown",
   "metadata": {
    "colab_type": "text",
    "id": "dIFt1F2AKa9i"
   },
   "source": [
    "### Obtenha a margem de erro\n",
    "\n",
    "#### <font color='red'>Lembre-se que a margem de erro deve estar na mesma unidade da variável que está sendo estudada (R$)</font>"
   ]
  },
  {
   "cell_type": "code",
   "execution_count": 12,
   "metadata": {
    "colab": {},
    "colab_type": "code",
    "id": "m5s5DvDuKa9j"
   },
   "outputs": [
    {
     "data": {
      "text/plain": [
       "234.9990000640111"
      ]
     },
     "execution_count": 12,
     "metadata": {},
     "output_type": "execute_result"
    }
   ],
   "source": [
    "tamanho_amostra = 200\n",
    "amostra_aleatoria = dados.Renda.sample(tamanho_amostra, random_state=101)\n",
    "\n",
    "sigma = dados.Renda.std()\n",
    "N = int(dados.Renda.shape[0])\n",
    "z = 1.96\n",
    "e_perc = (((sigma/np.sqrt(tamanho_amostra))) / dados.Renda.mean()).__round__(3)\n",
    "e_quant = ((sigma/np.sqrt(tamanho_amostra)))\n",
    "e_quant"
   ]
  },
  {
   "cell_type": "markdown",
   "metadata": {
    "colab_type": "text",
    "id": "pLoYC--IKa9l"
   },
   "source": [
    "### Tamanho da amostra ($1 - \\alpha = 90\\%$)"
   ]
  },
  {
   "cell_type": "code",
   "execution_count": 13,
   "metadata": {
    "colab": {},
    "colab_type": "code",
    "id": "-BteoZ6JKa9m"
   },
   "outputs": [
    {
     "data": {
      "text/plain": [
       "739"
      ]
     },
     "execution_count": 13,
     "metadata": {},
     "output_type": "execute_result"
    }
   ],
   "source": [
    "# População Finita\n",
    "Margem_erro_perc = 0.1\n",
    "Margen_erro = Margem_erro_perc * dados.Renda.mean()\n",
    "sigma = dados.Renda.std()\n",
    "z = 1.645\n",
    "amostra_ideal = int(((pow(z,2))*(sigma**2)*N) / ((pow(z,2))*(sigma**2)+(Margen_erro**2)*(N-1)).__round__())\n",
    "int(amostra_ideal.__round__(2))"
   ]
  },
  {
   "cell_type": "code",
   "execution_count": 14,
   "metadata": {
    "colab": {},
    "colab_type": "code",
    "id": "2d8PcF9iKa9o",
    "outputId": "8c21a0d7-43c3-4f68-b166-072cb5f19c0f"
   },
   "outputs": [
    {
     "data": {
      "text/plain": [
       "739"
      ]
     },
     "execution_count": 14,
     "metadata": {},
     "output_type": "execute_result"
    }
   ],
   "source": [
    "# População Infinita\n",
    "Margem_erro_perc = 0.1\n",
    "Margen_erro = Margem_erro_perc * amostra_aleatoria.mean()\n",
    "sigma = amostra_aleatoria.std()\n",
    "z = 1.645\n",
    "amostra_ideal_90 = (z*(sigma/Margen_erro))**2\n",
    "int(amostra_ideal.__round__(2))"
   ]
  },
  {
   "cell_type": "markdown",
   "metadata": {
    "colab_type": "text",
    "id": "brh0CpeSKa9q"
   },
   "source": [
    "### Tamanho da amostra ($1 - \\alpha = 95\\%$)"
   ]
  },
  {
   "cell_type": "code",
   "execution_count": 15,
   "metadata": {
    "colab": {},
    "colab_type": "code",
    "id": "8NtV47kVKa9q"
   },
   "outputs": [
    {
     "data": {
      "text/plain": [
       "739"
      ]
     },
     "execution_count": 15,
     "metadata": {},
     "output_type": "execute_result"
    }
   ],
   "source": [
    "Margem_erro_perc = 0.1\n",
    "Margen_erro = Margem_erro_perc * dados.Renda.mean()\n",
    "sigma = dados.Renda.std()\n",
    "N = dados.shape[0]\n",
    "z = 1.96\n",
    "amostra_ideal_95 = int(((pow(z,2))*(sigma**2)*N) / ((pow(z,2))*(sigma**2)+(Margen_erro**2)*(N-1)).__round__())\n",
    "int(amostra_ideal.__round__(2))"
   ]
  },
  {
   "cell_type": "markdown",
   "metadata": {
    "colab_type": "text",
    "id": "rAEX9_qFKa9y"
   },
   "source": [
    "### Tamanho da amostra ($1 - \\alpha = 99\\%$)"
   ]
  },
  {
   "cell_type": "code",
   "execution_count": 16,
   "metadata": {
    "colab": {},
    "colab_type": "code",
    "id": "dvFHNFsLKa9y"
   },
   "outputs": [
    {
     "data": {
      "text/plain": [
       "739"
      ]
     },
     "execution_count": 16,
     "metadata": {},
     "output_type": "execute_result"
    }
   ],
   "source": [
    "Margem_erro_perc = 0.1\n",
    "Margen_erro = Margem_erro_perc * dados.Renda.mean()\n",
    "sigma = dados.Renda.std() \n",
    "N = dados.shape[0]\n",
    "z = 2.575\n",
    "amostra_ideal_99 = int(((pow(z,2))*(sigma**2)*N) / ((pow(z,2))*(sigma**2)+(Margen_erro**2)*(N-1)).__round__())\n",
    "int(amostra_ideal.__round__(2))"
   ]
  },
  {
   "cell_type": "markdown",
   "metadata": {
    "colab_type": "text",
    "id": "n3dILIrGKa93"
   },
   "source": [
    "# <font color='blue'>Solução do item 3</font>"
   ]
  },
  {
   "cell_type": "markdown",
   "metadata": {
    "colab_type": "text",
    "id": "SzkxkOB6Ka93"
   },
   "source": [
    "### Custo da pesquisa para o nível de confiança de 90%"
   ]
  },
  {
   "cell_type": "code",
   "execution_count": 17,
   "metadata": {
    "colab": {},
    "colab_type": "code",
    "id": "j_0BpUBMKa95"
   },
   "outputs": [
    {
     "data": {
      "text/plain": [
       "73900"
      ]
     },
     "execution_count": 17,
     "metadata": {},
     "output_type": "execute_result"
    }
   ],
   "source": [
    "Custo_90 = 739*100\n",
    "Custo_90"
   ]
  },
  {
   "cell_type": "markdown",
   "metadata": {
    "colab_type": "text",
    "id": "DdoUIGXkKa97"
   },
   "source": [
    "### Custo da pesquisa para o nível de confiança de 95%"
   ]
  },
  {
   "cell_type": "code",
   "execution_count": 18,
   "metadata": {
    "colab": {},
    "colab_type": "code",
    "id": "R4YQV7_EKa97"
   },
   "outputs": [
    {
     "data": {
      "text/plain": [
       "104500"
      ]
     },
     "execution_count": 18,
     "metadata": {},
     "output_type": "execute_result"
    }
   ],
   "source": [
    "Custo_95 = 1045 * 100\n",
    "Custo_95"
   ]
  },
  {
   "cell_type": "markdown",
   "metadata": {
    "colab_type": "text",
    "id": "f4SppXkOKa9-"
   },
   "source": [
    "### Custo da pesquisa para o nível de confiança de 99%"
   ]
  },
  {
   "cell_type": "code",
   "execution_count": 19,
   "metadata": {
    "colab": {},
    "colab_type": "code",
    "id": "7fZucTJIKa9-"
   },
   "outputs": [
    {
     "data": {
      "text/plain": [
       "178700"
      ]
     },
     "execution_count": 19,
     "metadata": {},
     "output_type": "execute_result"
    }
   ],
   "source": [
    "Custo_99 = 1787*100\n",
    "Custo_99"
   ]
  },
  {
   "cell_type": "markdown",
   "metadata": {
    "colab_type": "text",
    "id": "0HVhFFfMKa-A"
   },
   "source": [
    "# <font color='blue'>Solução do item 4</font>"
   ]
  },
  {
   "cell_type": "code",
   "execution_count": 20,
   "metadata": {
    "colab": {},
    "colab_type": "code",
    "id": "uTePzAGQKa-B"
   },
   "outputs": [
    {
     "name": "stdout",
     "output_type": "stream",
     "text": [
      "(1798.8850976578733, 2201.881300051653)\n",
      "De 1765.384198790752 a 2235.382198918774\n"
     ]
    }
   ],
   "source": [
    "from scipy.stats import norm # type: ignore\n",
    "print(norm.interval(confidence=0.95, loc = dados.Renda.mean(), scale = dados.Renda.std() / np.sqrt(amostra_ideal_95)))\n",
    "# OU \n",
    "print('De {} a {}'.format(dados.Renda.mean()-e_quant,dados.Renda.mean()+e_quant))"
   ]
  },
  {
   "cell_type": "markdown",
   "metadata": {
    "colab_type": "text",
    "id": "n8uxkOcPKa-D"
   },
   "source": [
    "# <font color='blue'>Solução do item 5</font>"
   ]
  },
  {
   "cell_type": "code",
   "execution_count": 21,
   "metadata": {
    "colab": {},
    "colab_type": "code",
    "id": "AaGOyW4pKa-E"
   },
   "outputs": [
    {
     "name": "stdout",
     "output_type": "stream",
     "text": [
      "Percentual: 0.084, Quantitativo: 168.1866243462567\n"
     ]
    }
   ],
   "source": [
    "tamanho_amostra = 1500\n",
    "amostra_aleatoria = dados.Renda.sample(tamanho_amostra, random_state=101)\n",
    "sigma = dados.Renda.std()\n",
    "z = 1.96\n",
    "e_perc = (z * ((sigma/np.sqrt(tamanho_amostra))) / dados.Renda.mean()).__round__(3)\n",
    "e_quant = (z * (sigma/np.sqrt(tamanho_amostra)))\n",
    "print('Percentual: {}, Quantitativo: {}'.format(e_perc,e_quant))"
   ]
  },
  {
   "cell_type": "markdown",
   "metadata": {
    "colab_type": "text",
    "id": "ood3yi8mKa-K"
   },
   "source": [
    "# <font color='blue'>Solução do item 6</font>"
   ]
  },
  {
   "cell_type": "code",
   "execution_count": 26,
   "metadata": {
    "colab": {},
    "colab_type": "code",
    "id": "U0f55DxHKa-K"
   },
   "outputs": [
    {
     "name": "stdout",
     "output_type": "stream",
     "text": [
      "Total para o cliente: R$401900\n"
     ]
    }
   ],
   "source": [
    "# População Finita\n",
    "Margem_erro_perc_1 = 0.05\n",
    "Margen_erro_1 = Margem_erro_perc_1 * dados.Renda.mean()\n",
    "sigma_1 = dados.Renda.std()\n",
    "N_1 = dados.shape[0]\n",
    "z = 1.96\n",
    "amostra_ideal_1 = int(((pow(z,2))*(sigma_1**2)*N_1) / ((pow(z,2))*(sigma_1**2)+(Margen_erro_1**2)*(N_1-1)).__round__())\n",
    "print('Total para o cliente: R${}'.format(int(amostra_ideal_1.__round__(2))*100))"
   ]
  },
  {
   "cell_type": "code",
   "execution_count": 28,
   "metadata": {
    "colab": {},
    "colab_type": "code",
    "id": "PDt0rtCZKa-M"
   },
   "outputs": [
    {
     "name": "stdout",
     "output_type": "stream",
     "text": [
      "Total para o cliente: R$392600\n"
     ]
    }
   ],
   "source": [
    "# População Infinita\n",
    "tamanho_amostra = 200\n",
    "amostra_aleatoria = dados.Renda.sample(tamanho_amostra, random_state=101)\n",
    "Margem_erro_perc_2 = 0.05\n",
    "Margen_erro_2 = Margem_erro_perc_2 * amostra_aleatoria.mean()\n",
    "sigma_2 = amostra_aleatoria.std()\n",
    "z = 1.96\n",
    "amostra_ideal_2 = (z*(sigma_2/Margen_erro_2))**2\n",
    "print('Total para o cliente: R${}'.format(int(amostra_ideal_2.__round__(2))*100))"
   ]
  }
 ],
 "metadata": {
  "colab": {
   "name": "Estimativas.ipynb",
   "provenance": [],
   "toc_visible": true,
   "version": "0.3.2"
  },
  "kernelspec": {
   "display_name": "Python 3",
   "language": "python",
   "name": "python3"
  },
  "language_info": {
   "codemirror_mode": {
    "name": "ipython",
    "version": 3
   },
   "file_extension": ".py",
   "mimetype": "text/x-python",
   "name": "python",
   "nbconvert_exporter": "python",
   "pygments_lexer": "ipython3",
   "version": "3.11.2"
  }
 },
 "nbformat": 4,
 "nbformat_minor": 1
}
